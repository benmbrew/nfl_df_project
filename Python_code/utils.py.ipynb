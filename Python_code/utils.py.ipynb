{
 "cells": [
  {
   "cell_type": "code",
   "execution_count": 1,
   "metadata": {
    "collapsed": true
   },
   "outputs": [],
   "source": [
    "import pandas as pd\n",
    "from bs4 import BeautifulSoup\n",
    "import requests\n",
    "from time import sleep\n",
    "import datetime\n",
    "from random import randint\n",
    "import os\n",
    "\n",
    "encoding = 'ISO-8859-1'\n",
    "def soup(url):\n",
    "    BASE_DIR=\"page_cache/\"\n",
    "    if not os.path.exists(BASE_DIR):\n",
    "        os.makedirs(BASE_DIR)\n",
    "    url_hash=url.replace(\"/\",\"\").replace(\":\",\"\").replace(\"?\",\"\").replace(\".\",\"\")\n",
    "    try:\n",
    "        with open(BASE_DIR+url_hash, \"r\", encoding=encoding,errors='ignore') as file:\n",
    "            return BeautifulSoup(file.read(), \"html.parser\")\n",
    "    except FileNotFoundError:\n",
    "        print(url)\n",
    "        sleep(randint(2,7))\n",
    "        html_data = requests.get(url, headers={\"User-Agent\":\"Mozilla/5.0 (Windows NT 10.0; Win64; x64) AppleWebKit/537.36 (KHTML, like Gecko) Chrome/58.0.3029.110 Safari/537.36\"}).text\n",
    "        soup_data = BeautifulSoup(html_data, \"html.parser\")\n",
    "        with open(BASE_DIR+url_hash, \"w\", encoding=encoding,errors='ignore') as file:\n",
    "            file.write(html_data)\n",
    "        return soup_data\n",
    "    except RuntimeError:\n",
    "        print(RuntimeError)"
   ]
  },
  {
   "cell_type": "code",
   "execution_count": null,
   "metadata": {
    "collapsed": true
   },
   "outputs": [],
   "source": []
  }
 ],
 "metadata": {
  "kernelspec": {
   "display_name": "Python 2",
   "language": "python",
   "name": "python2"
  },
  "language_info": {
   "codemirror_mode": {
    "name": "ipython",
    "version": 3
   },
   "file_extension": ".py",
   "mimetype": "text/x-python",
   "name": "python",
   "nbconvert_exporter": "python",
   "pygments_lexer": "ipython3",
   "version": "3.6.3"
  }
 },
 "nbformat": 4,
 "nbformat_minor": 2
}
